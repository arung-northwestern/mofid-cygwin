{
 "cells": [
  {
   "cell_type": "markdown",
   "metadata": {},
   "source": [
    "🚀 **Test MOFId-cygwin from Jupyter** 🚀\n",
    "In this notebook, we will try running MOFId-cygwin from Jupyter notebook. 📚\n",
    "\n",
    "**Prerequisites:** 🚨\n",
    "- MOFId compiled on Cygwin 💻\n",
    "- path to the 'sbu' executable `path_to_mofid/bin/sbu`, where `path_to_mofid` is where MOFId is compiled. 🚀\n",
    "- path to cygwin is set to default on Windows, which is `C:/cygwin64/bin` change it to your path otherwise. 🔄\n",
    "- you also need a java runtime environment, on `conda` you can do, `conda install openjdk` (for Windows, obviously). \n",
    "\n",
    "Let's get started! 🎉\n"
   ]
  },
  {
   "cell_type": "markdown",
   "metadata": {},
   "source": [
    " 🚀 **Make Imports and Set Paths** 🚀 "
   ]
  },
  {
   "cell_type": "code",
   "execution_count": 1,
   "metadata": {},
   "outputs": [],
   "source": [
    "from pathlib import Path\n",
    "import sys\n",
    "path_to_mofid = Path('C:/Users/arung/OneDrive - The University of Manchester/my_cloned_repos/mofid_clones/mofid-cygwin/')\n",
    "path_to_executable = path_to_mofid / 'bin' / 'sbu'\n",
    "path_to_cif = Path('../irmof_test.cif').resolve()\n",
    "import mofid\n",
    "\n"
   ]
  },
  {
   "cell_type": "markdown",
   "metadata": {},
   "source": [
    " 🚀 These are the functions that we will test. 🚀"
   ]
  },
  {
   "cell_type": "code",
   "execution_count": 2,
   "metadata": {},
   "outputs": [],
   "source": [
    "from mofid.id_constructor import make_command, run_cygwin_from_jupyter_rt, extract_fragments, extract_topology\n",
    "from mofid.run_mofid import cif2mofid\n"
   ]
  },
  {
   "cell_type": "markdown",
   "metadata": {},
   "source": [
    "You can run cygwin commands of the type `path_to_executable path_to_input` from Jupyter on Windows using this function. In this case we'll obviously use the MOFId `sbu` executable as a test."
   ]
  },
  {
   "cell_type": "code",
   "execution_count": 3,
   "metadata": {},
   "outputs": [
    {
     "name": "stdout",
     "output_type": "stream",
     "text": [
      "Cygwin Executable Path: C:/Users/arung/OneDrive\\ -\\ The\\ University\\ of\\ Manchester/my_cloned_repos/mofid_clones/mofid-cygwin/bin/sbu\n",
      "Cygwin CIF Path: C:/Users/arung/OneDrive\\ -\\ The\\ University\\ of\\ Manchester/my_cloned_repos/mofid_clones/mofid-cygwin/irmof_test.cif\n",
      "Command is C:/Users/arung/OneDrive\\ -\\ The\\ University\\ of\\ Manchester/my_cloned_repos/mofid_clones/mofid-cygwin/bin/sbu  C:/Users/arung/OneDrive\\ -\\ The\\ University\\ of\\ Manchester/my_cloned_repos/mofid_clones/mofid-cygwin/irmof_test.cif\n",
      "# Nodes:\n",
      "[Zn][O]([Zn])([Zn])[Zn]\t\n",
      "# Linkers:\n",
      "[O-]C(=O)c1ccc(cc1)C(=O)[O-]\t\n",
      "# Found 1 simplified net(s)"
     ]
    },
    {
     "data": {
      "text/plain": [
       "(0,\n",
       " '# Nodes:\\n[Zn][O]([Zn])([Zn])[Zn]\\t\\n# Linkers:\\n[O-]C(=O)c1ccc(cc1)C(=O)[O-]\\t\\n# Found 1 simplified net(s)',\n",
       " '')"
      ]
     },
     "execution_count": 3,
     "metadata": {},
     "output_type": "execute_result"
    }
   ],
   "source": [
    "run_cygwin_from_jupyter_rt(make_command(path_to_cif, path_to_executable))\n"
   ]
  },
  {
   "cell_type": "markdown",
   "metadata": {},
   "source": [
    "the cygwin path on Windows by default is set to `C:/cygwin64/bin`. If you installed it elsewhere, just pass it along like this:"
   ]
  },
  {
   "cell_type": "code",
   "execution_count": 4,
   "metadata": {},
   "outputs": [
    {
     "name": "stdout",
     "output_type": "stream",
     "text": [
      "Cygwin Executable Path: C:/Users/arung/OneDrive\\ -\\ The\\ University\\ of\\ Manchester/my_cloned_repos/mofid_clones/mofid-cygwin/bin/sbu\n",
      "Cygwin CIF Path: C:/Users/arung/OneDrive\\ -\\ The\\ University\\ of\\ Manchester/my_cloned_repos/mofid_clones/mofid-cygwin/irmof_test.cif\n",
      "Command is C:/Users/arung/OneDrive\\ -\\ The\\ University\\ of\\ Manchester/my_cloned_repos/mofid_clones/mofid-cygwin/bin/sbu  C:/Users/arung/OneDrive\\ -\\ The\\ University\\ of\\ Manchester/my_cloned_repos/mofid_clones/mofid-cygwin/irmof_test.cif\n",
      "# Nodes:\n",
      "[Zn][O]([Zn])([Zn])[Zn]\t\n",
      "# Linkers:\n",
      "[O-]C(=O)c1ccc(cc1)C(=O)[O-]\t\n",
      "# Found 1 simplified net(s)"
     ]
    },
    {
     "data": {
      "text/plain": [
       "(0,\n",
       " '# Nodes:\\n[Zn][O]([Zn])([Zn])[Zn]\\t\\n# Linkers:\\n[O-]C(=O)c1ccc(cc1)C(=O)[O-]\\t\\n# Found 1 simplified net(s)',\n",
       " '')"
      ]
     },
     "execution_count": 4,
     "metadata": {},
     "output_type": "execute_result"
    }
   ],
   "source": [
    "run_cygwin_from_jupyter_rt(make_command(path_to_cif, path_to_executable), cygwin_path=Path('C:/cygwin64/bin'))"
   ]
  },
  {
   "cell_type": "markdown",
   "metadata": {},
   "source": [
    "**Extract Fragments** ✂️\n",
    "\n",
    "Let's go step by step, if you just want the fragments (nodes, linkers and catenation) and don't need the `mofid` right away. The `output_path` is where you want the `Output` folder to appear. `path_to_mofid` is where you compiled `mofid-cygwin`. This function also takes `cygwin_path` argument in case cygwin is not installed in the default path on Windows. 🛠️"
   ]
  },
  {
   "cell_type": "code",
   "execution_count": 5,
   "metadata": {},
   "outputs": [
    {
     "name": "stdout",
     "output_type": "stream",
     "text": [
      "SBU_BIN: C:\\Users\\arung\\OneDrive - The University of Manchester\\my_cloned_repos\\mofid_clones\\mofid-cygwin\\bin\\sbu\n",
      "mof_path: C:\\Users\\arung\\OneDrive - The University of Manchester\\my_cloned_repos\\mofid_clones\\mofid-cygwin\\irmof_test.cif\n",
      "output_path: C:\\Users\\arung\\OneDrive - The University of Manchester\\my_cloned_repos\\mofid_clones\\mofid-cygwin\\tests\n",
      "Current working directory: c:\\Users\\arung\\OneDrive - The University of Manchester\\my_cloned_repos\\mofid_clones\\mofid-cygwin\\tests\n",
      "PATH: C:\\cygwin64\\bin;C:\\cygwin64\\bin;c:\\Users\\arung\\miniforge3\\envs\\magic;C:\\Users\\arung\\miniforge3\\envs\\magic;C:\\Users\\arung\\miniforge3\\envs\\magic\\Library\\mingw-w64\\bin;C:\\Users\\arung\\miniforge3\\envs\\magic\\Library\\usr\\bin;C:\\Users\\arung\\miniforge3\\envs\\magic\\Library\\bin;C:\\Users\\arung\\miniforge3\\envs\\magic\\Scripts;C:\\Users\\arung\\miniforge3\\envs\\magic\\bin;C:\\Users\\arung\\miniforge3\\condabin;C:\\Program Files (x86)\\Common Files\\Oracle\\Java\\java8path;C:\\Program Files (x86)\\Common Files\\Oracle\\Java\\javapath;C:\\Windows\\system32;C:\\Windows;C:\\Windows\\System32\\Wbem;C:\\Windows\\System32\\WindowsPowerShell\\v1.0;C:\\Windows\\System32\\OpenSSH;C:\\Program Files (x86)\\NVIDIA Corporation\\PhysX\\Common;C:\\Program Files\\NVIDIA Corporation\\NVIDIA NvDLISR;C:\\ProgramData\\chocolatey\\bin;C:\\msys64\\mingw64\\bin;C:\\Users\\arung\\AppData\\Local\\LAMMPS 64-bit 27Jun2024\\bin;C:\\Program Files\\WezTerm;C:\\Program Files (x86)\\Lua\\5.1;C:\\Program Files (x86)\\Lua\\5.1\\clibs;C:\\Program Files\\nodejs;C:\\Program Files (x86)\\Windows Kits\\10\\Windows Performance Toolkit;c:\\Users\\arung\\AppData\\Local\\Programs\\cursor\\resources\\app\\bin;C:\\Program Files\\Git\\cmd;C:\\Users\\arung\\AppData\\Local\\Programs\\Quarto\\bin;C:\\Users\\arung\\.cargo\\bin;C:\\Users\\arung\\AppData\\Local\\Programs\\Microsoft VS Code\\bin;C:\\tools\\neovim\\nvim-win64\\bin;C:\\Users\\arung\\AppData\\Local\\Programs\\Ollama\n",
      "LD_LIBRARY_PATH: None\n",
      "BABEL_DATADIR: C:\\Users\\arung\\OneDrive - The University of Manchester\\my_cloned_repos\\mofid_clones\\mofid-cygwin\\openbabel\\data\n",
      "BABEL_LIBDIR: None\n",
      "Cygwin Executable Path: C:/Users/arung/OneDrive\\ -\\ The\\ University\\ of\\ Manchester/my_cloned_repos/mofid_clones/mofid-cygwin/bin/sbu\n",
      "Cygwin CIF Path: C:/Users/arung/OneDrive\\ -\\ The\\ University\\ of\\ Manchester/my_cloned_repos/mofid_clones/mofid-cygwin/irmof_test.cif\n",
      "Command is C:/Users/arung/OneDrive\\ -\\ The\\ University\\ of\\ Manchester/my_cloned_repos/mofid_clones/mofid-cygwin/bin/sbu  C:/Users/arung/OneDrive\\ -\\ The\\ University\\ of\\ Manchester/my_cloned_repos/mofid_clones/mofid-cygwin/irmof_test.cif\n",
      "# Nodes:\n",
      "[Zn][O]([Zn])([Zn])[Zn]\t\n",
      "# Linkers:\n",
      "[O-]C(=O)c1ccc(cc1)C(=O)[O-]\t\n",
      "# Found 1 simplified net(s)"
     ]
    },
    {
     "data": {
      "text/plain": [
       "(['[Zn][O]([Zn])([Zn])[Zn]'],\n",
       " ['[O-]C(=O)c1ccc(cc1)C(=O)[O-]'],\n",
       " '0',\n",
       " 'Zn.KKEYFWRCBNTPAC.MOFkey-v1')"
      ]
     },
     "execution_count": 5,
     "metadata": {},
     "output_type": "execute_result"
    }
   ],
   "source": [
    "# import mofid.id_constructor\n",
    "\n",
    "extract_fragments(path_to_cif, output_path=Path('.').resolve() , path_to_mofid = path_to_mofid)"
   ]
  },
  {
   "cell_type": "markdown",
   "metadata": {},
   "source": [
    "**Extract Topology** 🌐\n",
    "\n",
    "Once you have the `topology.cgd` file in the `Output/SingleNode` or `Output/AllNode` folders, you can use them to detect the topology codes against the RCSR nets. Similar arguments as before are available 🔍"
   ]
  },
  {
   "cell_type": "code",
   "execution_count": 6,
   "metadata": {},
   "outputs": [
    {
     "name": "stdout",
     "output_type": "stream",
     "text": [
      "Cygwin Executable Path: java\n",
      "Cygwin CIF Path: Output/SingleNode/topology.cgd\n",
      "Command is java -Xmx1024m -cp C:/Users/arung/OneDrive\\ -\\ The\\ University\\ of\\ Manchester/my_cloned_repos/mofid_clones/mofid-cygwin/Resources/Systre-experimental-20.8.0.jar org.gavrog.apps.systre.SystreCmdline C:/Users/arung/OneDrive\\ -\\ The\\ University\\ of\\ Manchester/my_cloned_repos/mofid_clones/mofid-cygwin/Resources/RCSRnets.arc Output/SingleNode/topology.cgd\n",
      "Read 2930 entries from archive \"C:/Users/arung/OneDrive - The University of Manchester/my_cloned_repos/mofid_clones/mofid-cygwin/Resources/RCSRnets.arc\"\n",
      "\n",
      "Data file \"Output/SingleNode/topology.cgd\".\n",
      "\n",
      "Structure #1 - .\n",
      "\n",
      "   Input structure described as 3-periodic.\n",
      "   Given space group is P1.\n",
      "   8 nodes and 24 edges in repeat unit as given.\n",
      "\n",
      "   Ideal repeat unit smaller than given (3 vs 24 edges).\n",
      "   Point group has 48 elements.\n",
      "   1 kind of node.\n",
      "\n",
      "   Equivalences for non-unique nodes:\n",
      "      2 --> 1\n",
      "      3 --> 1\n",
      "      4 --> 1\n",
      "      5 --> 1\n",
      "      6 --> 1\n",
      "      7 --> 1\n",
      "      8 --> 1\n",
      "\n",
      "   Coordination sequences:\n",
      "      Node 1:    6 18 38 66 102 146 198 258 326 402\n",
      "\n",
      "   TD10 = 1561\n",
      "\n",
      "   Ideal space group is Pm-3m.\n",
      "   Ideal group or setting differs from given (Pm-3m vs P1).\n",
      "\n",
      "   Structure was identified with RCSR symbol:\n",
      "       Name:\t\tpcu\n",
      "\n",
      "   Structure was found in archive \"C:/Users/arung/OneDrive - The University of Manchester/my_cloned_repos/mofid_clones/mofid-cygwin/Resources/RCSRnets.arc\":\n",
      "       Name:\t\tpcu\n",
      "\n",
      "\n",
      "   Relaxed cell parameters:\n",
      "       a = 1.00000, b = 1.00000, c = 1.00000\n",
      "       alpha = 90.0000, beta = 90.0000, gamma = 90.0000\n",
      "   Cell volume: 1.00000\n",
      "   Relaxed positions:\n",
      "      Node 1:    0.00000 0.00000 0.00000\n",
      "   Edges:\n",
      "      0.00000 0.00000 0.00000  <->  0.00000 0.00000 1.00000\n",
      "   Edge centers:\n",
      "      0.00000 0.00000 0.50000\n",
      "\n",
      "   Edge statistics: minimum = 1.00000, maximum = 1.00000, average = 1.00000\n",
      "   Angle statistics: minimum = 90.00000, maximum = 180.00000, average = 108.00000\n",
      "   Shortest non-bonded distance = 1.41421\n",
      "\n",
      "   Degrees of freedom: 1\n",
      "\n",
      "Finished structure #1 - .\n",
      "\n",
      "Finished data file \"Output/SingleNode/topology.cgd\".\n"
     ]
    },
    {
     "data": {
      "text/plain": [
       "'pcu'"
      ]
     },
     "execution_count": 6,
     "metadata": {},
     "output_type": "execute_result"
    }
   ],
   "source": [
    "extract_topology(topology_file=Path('./Output/SingleNode/topology.cgd'), path_to_mofid=path_to_mofid)"
   ]
  },
  {
   "cell_type": "markdown",
   "metadata": {},
   "source": [
    "or using the `AllNode/topology.cgd` file."
   ]
  },
  {
   "cell_type": "code",
   "execution_count": 7,
   "metadata": {},
   "outputs": [
    {
     "name": "stdout",
     "output_type": "stream",
     "text": [
      "Cygwin Executable Path: java\n",
      "Cygwin CIF Path: Output/AllNode/topology.cgd\n",
      "Command is java -Xmx1024m -cp C:/Users/arung/OneDrive\\ -\\ The\\ University\\ of\\ Manchester/my_cloned_repos/mofid_clones/mofid-cygwin/Resources/Systre-experimental-20.8.0.jar org.gavrog.apps.systre.SystreCmdline C:/Users/arung/OneDrive\\ -\\ The\\ University\\ of\\ Manchester/my_cloned_repos/mofid_clones/mofid-cygwin/Resources/RCSRnets.arc Output/AllNode/topology.cgd\n",
      "Read 2930 entries from archive \"C:/Users/arung/OneDrive - The University of Manchester/my_cloned_repos/mofid_clones/mofid-cygwin/Resources/RCSRnets.arc\"\n",
      "\n",
      "Data file \"Output/AllNode/topology.cgd\".\n",
      "\n",
      "Structure #1 - .\n",
      "\n",
      "   Input structure described as 3-periodic.\n",
      "   Given space group is P1.\n",
      "   8 nodes and 24 edges in repeat unit as given.\n",
      "\n",
      "   Ideal repeat unit smaller than given (3 vs 24 edges).\n",
      "   Point group has 48 elements.\n",
      "   1 kind of node.\n",
      "\n",
      "   Equivalences for non-unique nodes:\n",
      "      2 --> 1\n",
      "      3 --> 1\n",
      "      4 --> 1\n",
      "      5 --> 1\n",
      "      6 --> 1\n",
      "      7 --> 1\n",
      "      8 --> 1\n",
      "\n",
      "   Coordination sequences:\n",
      "      Node 1:    6 18 38 66 102 146 198 258 326 402\n",
      "\n",
      "   TD10 = 1561\n",
      "\n",
      "   Ideal space group is Pm-3m.\n",
      "   Ideal group or setting differs from given (Pm-3m vs P1).\n",
      "\n",
      "   Structure was identified with RCSR symbol:\n",
      "       Name:\t\tpcu\n",
      "\n",
      "   Structure was found in archive \"C:/Users/arung/OneDrive - The University of Manchester/my_cloned_repos/mofid_clones/mofid-cygwin/Resources/RCSRnets.arc\":\n",
      "       Name:\t\tpcu\n",
      "\n",
      "\n",
      "   Relaxed cell parameters:\n",
      "       a = 1.00000, b = 1.00000, c = 1.00000\n",
      "       alpha = 90.0000, beta = 90.0000, gamma = 90.0000\n",
      "   Cell volume: 1.00000\n",
      "   Relaxed positions:\n",
      "      Node 1:    0.00000 0.00000 0.00000\n",
      "   Edges:\n",
      "      0.00000 0.00000 0.00000  <->  0.00000 0.00000 1.00000\n",
      "   Edge centers:\n",
      "      0.00000 0.00000 0.50000\n",
      "\n",
      "   Edge statistics: minimum = 1.00000, maximum = 1.00000, average = 1.00000\n",
      "   Angle statistics: minimum = 90.00000, maximum = 180.00000, average = 108.00000\n",
      "   Shortest non-bonded distance = 1.41421\n",
      "\n",
      "   Degrees of freedom: 1\n",
      "\n",
      "Finished structure #1 - .\n",
      "\n",
      "Finished data file \"Output/AllNode/topology.cgd\".\n"
     ]
    },
    {
     "data": {
      "text/plain": [
       "'pcu'"
      ]
     },
     "execution_count": 7,
     "metadata": {},
     "output_type": "execute_result"
    }
   ],
   "source": [
    "extract_topology(topology_file=Path('./Output/AllNode/topology.cgd'), path_to_mofid=path_to_mofid)"
   ]
  },
  {
   "cell_type": "markdown",
   "metadata": {},
   "source": [
    "**MOFId** 🌟\n",
    " \n",
    "You can also just skip ahead and call the MOFId wrapper to get the whole MOFId dictionary in one go. Using the `cif2mofid` wrapper. 📦"
   ]
  },
  {
   "cell_type": "code",
   "execution_count": 8,
   "metadata": {},
   "outputs": [
    {
     "name": "stdout",
     "output_type": "stream",
     "text": [
      "SBU_BIN: C:\\Users\\arung\\OneDrive - The University of Manchester\\my_cloned_repos\\mofid_clones\\mofid-cygwin\\bin\\sbu\n",
      "mof_path: C:\\Users\\arung\\OneDrive - The University of Manchester\\my_cloned_repos\\mofid_clones\\mofid-cygwin\\irmof_test.cif\n",
      "output_path: C:\\Users\\arung\\OneDrive - The University of Manchester\\my_cloned_repos\\mofid_clones\\mofid-cygwin\\tests\n",
      "Current working directory: c:\\Users\\arung\\OneDrive - The University of Manchester\\my_cloned_repos\\mofid_clones\\mofid-cygwin\\tests\n",
      "PATH: C:\\cygwin64\\bin;C:\\cygwin64\\bin;C:\\cygwin64\\bin;C:\\cygwin64\\bin;C:\\cygwin64\\bin;c:\\Users\\arung\\miniforge3\\envs\\magic;C:\\Users\\arung\\miniforge3\\envs\\magic;C:\\Users\\arung\\miniforge3\\envs\\magic\\Library\\mingw-w64\\bin;C:\\Users\\arung\\miniforge3\\envs\\magic\\Library\\usr\\bin;C:\\Users\\arung\\miniforge3\\envs\\magic\\Library\\bin;C:\\Users\\arung\\miniforge3\\envs\\magic\\Scripts;C:\\Users\\arung\\miniforge3\\envs\\magic\\bin;C:\\Users\\arung\\miniforge3\\condabin;C:\\Program Files (x86)\\Common Files\\Oracle\\Java\\java8path;C:\\Program Files (x86)\\Common Files\\Oracle\\Java\\javapath;C:\\Windows\\system32;C:\\Windows;C:\\Windows\\System32\\Wbem;C:\\Windows\\System32\\WindowsPowerShell\\v1.0;C:\\Windows\\System32\\OpenSSH;C:\\Program Files (x86)\\NVIDIA Corporation\\PhysX\\Common;C:\\Program Files\\NVIDIA Corporation\\NVIDIA NvDLISR;C:\\ProgramData\\chocolatey\\bin;C:\\msys64\\mingw64\\bin;C:\\Users\\arung\\AppData\\Local\\LAMMPS 64-bit 27Jun2024\\bin;C:\\Program Files\\WezTerm;C:\\Program Files (x86)\\Lua\\5.1;C:\\Program Files (x86)\\Lua\\5.1\\clibs;C:\\Program Files\\nodejs;C:\\Program Files (x86)\\Windows Kits\\10\\Windows Performance Toolkit;c:\\Users\\arung\\AppData\\Local\\Programs\\cursor\\resources\\app\\bin;C:\\Program Files\\Git\\cmd;C:\\Users\\arung\\AppData\\Local\\Programs\\Quarto\\bin;C:\\Users\\arung\\.cargo\\bin;C:\\Users\\arung\\AppData\\Local\\Programs\\Microsoft VS Code\\bin;C:\\tools\\neovim\\nvim-win64\\bin;C:\\Users\\arung\\AppData\\Local\\Programs\\Ollama\n",
      "LD_LIBRARY_PATH: None\n",
      "BABEL_DATADIR: C:\\Users\\arung\\OneDrive - The University of Manchester\\my_cloned_repos\\mofid_clones\\mofid-cygwin\\openbabel\\data\n",
      "BABEL_LIBDIR: None\n",
      "Cygwin Executable Path: C:/Users/arung/OneDrive\\ -\\ The\\ University\\ of\\ Manchester/my_cloned_repos/mofid_clones/mofid-cygwin/bin/sbu\n",
      "Cygwin CIF Path: C:/Users/arung/OneDrive\\ -\\ The\\ University\\ of\\ Manchester/my_cloned_repos/mofid_clones/mofid-cygwin/irmof_test.cif\n",
      "Command is C:/Users/arung/OneDrive\\ -\\ The\\ University\\ of\\ Manchester/my_cloned_repos/mofid_clones/mofid-cygwin/bin/sbu  C:/Users/arung/OneDrive\\ -\\ The\\ University\\ of\\ Manchester/my_cloned_repos/mofid_clones/mofid-cygwin/irmof_test.cif\n",
      "# Nodes:\n",
      "[Zn][O]([Zn])([Zn])[Zn]\t\n",
      "# Linkers:\n",
      "[O-]C(=O)c1ccc(cc1)C(=O)[O-]\t\n",
      "# Found 1 simplified net(s)Cygwin Executable Path: java\n",
      "Cygwin CIF Path: C:/Users/arung/OneDrive\\ -\\ The\\ University\\ of\\ Manchester/my_cloned_repos/mofid_clones/mofid-cygwin/tests/Output/SingleNode/topology.cgd\n",
      "Command is java -Xmx1024m -cp C:/Users/arung/OneDrive\\ -\\ The\\ University\\ of\\ Manchester/my_cloned_repos/mofid_clones/mofid-cygwin/Resources/Systre-experimental-20.8.0.jar org.gavrog.apps.systre.SystreCmdline C:/Users/arung/OneDrive\\ -\\ The\\ University\\ of\\ Manchester/my_cloned_repos/mofid_clones/mofid-cygwin/Resources/RCSRnets.arc C:/Users/arung/OneDrive\\ -\\ The\\ University\\ of\\ Manchester/my_cloned_repos/mofid_clones/mofid-cygwin/tests/Output/SingleNode/topology.cgd\n",
      "Read 2930 entries from archive \"C:/Users/arung/OneDrive - The University of Manchester/my_cloned_repos/mofid_clones/mofid-cygwin/Resources/RCSRnets.arc\"\n",
      "\n",
      "Data file \"C:/Users/arung/OneDrive - The University of Manchester/my_cloned_repos/mofid_clones/mofid-cygwin/tests/Output/SingleNode/topology.cgd\".\n",
      "\n",
      "Structure #1 - .\n",
      "\n",
      "   Input structure described as 3-periodic.\n",
      "   Given space group is P1.\n",
      "   8 nodes and 24 edges in repeat unit as given.\n",
      "\n",
      "   Ideal repeat unit smaller than given (3 vs 24 edges).\n",
      "   Point group has 48 elements.\n",
      "   1 kind of node.\n",
      "\n",
      "   Equivalences for non-unique nodes:\n",
      "      2 --> 1\n",
      "      3 --> 1\n",
      "      4 --> 1\n",
      "      5 --> 1\n",
      "      6 --> 1\n",
      "      7 --> 1\n",
      "      8 --> 1\n",
      "\n",
      "   Coordination sequences:\n",
      "      Node 1:    6 18 38 66 102 146 198 258 326 402\n",
      "\n",
      "   TD10 = 1561\n",
      "\n",
      "   Ideal space group is Pm-3m.\n",
      "   Ideal group or setting differs from given (Pm-3m vs P1).\n",
      "\n",
      "   Structure was identified with RCSR symbol:\n",
      "       Name:\t\tpcu\n",
      "\n",
      "   Structure was found in archive \"C:/Users/arung/OneDrive - The University of Manchester/my_cloned_repos/mofid_clones/mofid-cygwin/Resources/RCSRnets.arc\":\n",
      "       Name:\t\tpcu\n",
      "\n",
      "\n",
      "   Relaxed cell parameters:\n",
      "       a = 1.00000, b = 1.00000, c = 1.00000\n",
      "       alpha = 90.0000, beta = 90.0000, gamma = 90.0000\n",
      "   Cell volume: 1.00000\n",
      "   Relaxed positions:\n",
      "      Node 1:    0.00000 0.00000 0.00000\n",
      "   Edges:\n",
      "      0.00000 0.00000 0.00000  <->  0.00000 0.00000 1.00000\n",
      "   Edge centers:\n",
      "      0.00000 0.00000 0.50000\n",
      "\n",
      "   Edge statistics: minimum = 1.00000, maximum = 1.00000, average = 1.00000\n",
      "   Angle statistics: minimum = 90.00000, maximum = 180.00000, average = 108.00000\n",
      "   Shortest non-bonded distance = 1.41421\n",
      "\n",
      "   Degrees of freedom: 1\n",
      "\n",
      "Finished structure #1 - .\n",
      "\n",
      "Finished data file \"C:/Users/arung/OneDrive - The University of Manchester/my_cloned_repos/mofid_clones/mofid-cygwin/tests/Output/SingleNode/topology.cgd\".\n",
      "Cygwin Executable Path: java\n",
      "Cygwin CIF Path: C:/Users/arung/OneDrive\\ -\\ The\\ University\\ of\\ Manchester/my_cloned_repos/mofid_clones/mofid-cygwin/tests/Output/AllNode/topology.cgd\n",
      "Command is java -Xmx1024m -cp C:/Users/arung/OneDrive\\ -\\ The\\ University\\ of\\ Manchester/my_cloned_repos/mofid_clones/mofid-cygwin/Resources/Systre-experimental-20.8.0.jar org.gavrog.apps.systre.SystreCmdline C:/Users/arung/OneDrive\\ -\\ The\\ University\\ of\\ Manchester/my_cloned_repos/mofid_clones/mofid-cygwin/Resources/RCSRnets.arc C:/Users/arung/OneDrive\\ -\\ The\\ University\\ of\\ Manchester/my_cloned_repos/mofid_clones/mofid-cygwin/tests/Output/AllNode/topology.cgd\n",
      "Read 2930 entries from archive \"C:/Users/arung/OneDrive - The University of Manchester/my_cloned_repos/mofid_clones/mofid-cygwin/Resources/RCSRnets.arc\"\n",
      "\n",
      "Data file \"C:/Users/arung/OneDrive - The University of Manchester/my_cloned_repos/mofid_clones/mofid-cygwin/tests/Output/AllNode/topology.cgd\".\n",
      "\n",
      "Structure #1 - .\n",
      "\n",
      "   Input structure described as 3-periodic.\n",
      "   Given space group is P1.\n",
      "   8 nodes and 24 edges in repeat unit as given.\n",
      "\n",
      "   Ideal repeat unit smaller than given (3 vs 24 edges).\n",
      "   Point group has 48 elements.\n",
      "   1 kind of node.\n",
      "\n",
      "   Equivalences for non-unique nodes:\n",
      "      2 --> 1\n",
      "      3 --> 1\n",
      "      4 --> 1\n",
      "      5 --> 1\n",
      "      6 --> 1\n",
      "      7 --> 1\n",
      "      8 --> 1\n",
      "\n",
      "   Coordination sequences:\n",
      "      Node 1:    6 18 38 66 102 146 198 258 326 402\n",
      "\n",
      "   TD10 = 1561\n",
      "\n",
      "   Ideal space group is Pm-3m.\n",
      "   Ideal group or setting differs from given (Pm-3m vs P1).\n",
      "\n",
      "   Structure was identified with RCSR symbol:\n",
      "       Name:\t\tpcu\n",
      "\n",
      "   Structure was found in archive \"C:/Users/arung/OneDrive - The University of Manchester/my_cloned_repos/mofid_clones/mofid-cygwin/Resources/RCSRnets.arc\":\n",
      "       Name:\t\tpcu\n",
      "\n",
      "\n",
      "   Relaxed cell parameters:\n",
      "       a = 1.00000, b = 1.00000, c = 1.00000\n",
      "       alpha = 90.0000, beta = 90.0000, gamma = 90.0000\n",
      "   Cell volume: 1.00000\n",
      "   Relaxed positions:\n",
      "      Node 1:    0.00000 0.00000 0.00000\n",
      "   Edges:\n",
      "      0.00000 0.00000 0.00000  <->  0.00000 0.00000 1.00000\n",
      "   Edge centers:\n",
      "      0.00000 0.00000 0.50000\n",
      "\n",
      "   Edge statistics: minimum = 1.00000, maximum = 1.00000, average = 1.00000\n",
      "   Angle statistics: minimum = 90.00000, maximum = 180.00000, average = 108.00000\n",
      "   Shortest non-bonded distance = 1.41421\n",
      "\n",
      "   Degrees of freedom: 1\n",
      "\n",
      "Finished structure #1 - .\n",
      "\n",
      "Finished data file \"C:/Users/arung/OneDrive - The University of Manchester/my_cloned_repos/mofid_clones/mofid-cygwin/tests/Output/AllNode/topology.cgd\".\n"
     ]
    },
    {
     "data": {
      "text/plain": [
       "{'mofid': '[O-]C(=O)c1ccc(cc1)C(=O)[O-].[Zn][O]([Zn])([Zn])[Zn] MOFid-v1.pcu.cat0.NO_REF;irmof_test',\n",
       " 'mofkey': 'Zn.KKEYFWRCBNTPAC.MOFkey-v1.pcu.NO_REF',\n",
       " 'smiles_nodes': ['[Zn][O]([Zn])([Zn])[Zn]'],\n",
       " 'smiles_linkers': ['[O-]C(=O)c1ccc(cc1)C(=O)[O-]'],\n",
       " 'smiles': '[O-]C(=O)c1ccc(cc1)C(=O)[O-].[Zn][O]([Zn])([Zn])[Zn]',\n",
       " 'topology': 'pcu',\n",
       " 'cat': '0',\n",
       " 'cifname': 'irmof_test'}"
      ]
     },
     "execution_count": 8,
     "metadata": {},
     "output_type": "execute_result"
    }
   ],
   "source": [
    "cif2mofid(cif_path=path_to_cif, output_path=Path('.').resolve(), path_to_mofid=path_to_mofid)"
   ]
  },
  {
   "cell_type": "markdown",
   "metadata": {},
   "source": [
    "**Conclusion** 🌟\n",
    "- call MOFid functions compiled on `cygwin` from Jupyter notebook/Ipython 🐍\n",
    "- call the individual steps `extract_fragments` and `extract_topology` separately, might be useful r parallelizing workflows. ⚙️\n",
    "- use the `cif2mofid` to get the mofid directly from the CIF file. 📂"
   ]
  },
  {
   "cell_type": "markdown",
   "metadata": {},
   "source": []
  }
 ],
 "metadata": {
  "kernelspec": {
   "display_name": "magic",
   "language": "python",
   "name": "python3"
  },
  "language_info": {
   "codemirror_mode": {
    "name": "ipython",
    "version": 3
   },
   "file_extension": ".py",
   "mimetype": "text/x-python",
   "name": "python",
   "nbconvert_exporter": "python",
   "pygments_lexer": "ipython3",
   "version": "3.11.8"
  }
 },
 "nbformat": 4,
 "nbformat_minor": 2
}
